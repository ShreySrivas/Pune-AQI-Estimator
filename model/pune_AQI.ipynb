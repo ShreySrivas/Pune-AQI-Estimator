{
 "cells": [
  {
   "cell_type": "markdown",
   "metadata": {},
   "source": [
    "# Pune Air Quality Index Predictor"
   ]
  },
  {
   "cell_type": "markdown",
   "metadata": {},
   "source": [
    "## Importing Libraries"
   ]
  },
  {
   "cell_type": "code",
   "execution_count": 3,
   "metadata": {},
   "outputs": [],
   "source": [
    "import numpy as np\n",
    "import pandas as pd\n",
    "from collections import Counter\n",
    "import re\n",
    "import seaborn as sns\n",
    "from sklearn.linear_model import LinearRegression\n",
    "from sklearn.model_selection import train_test_split\n",
    "from sklearn.model_selection import cross_val_score\n",
    "from sklearn.model_selection import ShuffleSplit\n",
    "from sklearn import preprocessing\n",
    "from sklearn.ensemble import RandomForestRegressor\n",
    "from sklearn.ensemble import StackingRegressor\n",
    "from sklearn.metrics import mean_squared_error,mean_absolute_error\n",
    "from sklearn.model_selection import RandomizedSearchCV,GridSearchCV\n",
    "from scipy.stats import randint,uniform\n",
    "from sklearn.ensemble import GradientBoostingRegressor\n",
    "from sklearn.ensemble import AdaBoostRegressor\n",
    "from xgboost import XGBRegressor\n",
    "import warnings\n",
    "import matplotlib.pyplot as plt\n",
    "import seaborn as sns"
   ]
  },
  {
   "cell_type": "markdown",
   "metadata": {},
   "source": [
    "## Analyzing imported dataset"
   ]
  },
  {
   "cell_type": "code",
   "execution_count": 4,
   "metadata": {},
   "outputs": [],
   "source": [
    "data = pd.read_csv('PNQ_AQI.csv')"
   ]
  },
  {
   "cell_type": "code",
   "execution_count": 5,
   "metadata": {},
   "outputs": [
    {
     "data": {
      "text/html": [
       "<div>\n",
       "<style scoped>\n",
       "    .dataframe tbody tr th:only-of-type {\n",
       "        vertical-align: middle;\n",
       "    }\n",
       "\n",
       "    .dataframe tbody tr th {\n",
       "        vertical-align: top;\n",
       "    }\n",
       "\n",
       "    .dataframe thead th {\n",
       "        text-align: right;\n",
       "    }\n",
       "</style>\n",
       "<table border=\"1\" class=\"dataframe\">\n",
       "  <thead>\n",
       "    <tr style=\"text-align: right;\">\n",
       "      <th></th>\n",
       "      <th>Date</th>\n",
       "      <th>SO2 µg/m3</th>\n",
       "      <th>Nox µg/m3</th>\n",
       "      <th>RSPM µg/m3</th>\n",
       "      <th>SPM</th>\n",
       "      <th>CO2 µg/m3</th>\n",
       "      <th>AQI</th>\n",
       "      <th>Location</th>\n",
       "    </tr>\n",
       "  </thead>\n",
       "  <tbody>\n",
       "    <tr>\n",
       "      <th>0</th>\n",
       "      <td>2009-01-01 00:00:00</td>\n",
       "      <td>15</td>\n",
       "      <td>53</td>\n",
       "      <td>179.0</td>\n",
       "      <td>NaN</td>\n",
       "      <td>NaN</td>\n",
       "      <td>153.0</td>\n",
       "      <td>MPCB-KR</td>\n",
       "    </tr>\n",
       "    <tr>\n",
       "      <th>1</th>\n",
       "      <td>2009-02-01 00:00:00</td>\n",
       "      <td>15</td>\n",
       "      <td>48</td>\n",
       "      <td>156.0</td>\n",
       "      <td>NaN</td>\n",
       "      <td>NaN</td>\n",
       "      <td>137.0</td>\n",
       "      <td>MPCB-KR</td>\n",
       "    </tr>\n",
       "    <tr>\n",
       "      <th>2</th>\n",
       "      <td>2009-03-01 00:00:00</td>\n",
       "      <td>13</td>\n",
       "      <td>51</td>\n",
       "      <td>164.0</td>\n",
       "      <td>NaN</td>\n",
       "      <td>NaN</td>\n",
       "      <td>143.0</td>\n",
       "      <td>MPCB-KR</td>\n",
       "    </tr>\n",
       "    <tr>\n",
       "      <th>3</th>\n",
       "      <td>2009-04-01 00:00:00</td>\n",
       "      <td>8</td>\n",
       "      <td>37</td>\n",
       "      <td>135.0</td>\n",
       "      <td>NaN</td>\n",
       "      <td>NaN</td>\n",
       "      <td>123.0</td>\n",
       "      <td>MPCB-KR</td>\n",
       "    </tr>\n",
       "    <tr>\n",
       "      <th>4</th>\n",
       "      <td>2009-07-01 00:00:00</td>\n",
       "      <td>13</td>\n",
       "      <td>36</td>\n",
       "      <td>140.0</td>\n",
       "      <td>NaN</td>\n",
       "      <td>NaN</td>\n",
       "      <td>127.0</td>\n",
       "      <td>MPCB-KR</td>\n",
       "    </tr>\n",
       "  </tbody>\n",
       "</table>\n",
       "</div>"
      ],
      "text/plain": [
       "                  Date SO2 µg/m3 Nox µg/m3  RSPM µg/m3  SPM  CO2 µg/m3    AQI  \\\n",
       "0  2009-01-01 00:00:00        15        53       179.0  NaN        NaN  153.0   \n",
       "1  2009-02-01 00:00:00        15        48       156.0  NaN        NaN  137.0   \n",
       "2  2009-03-01 00:00:00        13        51       164.0  NaN        NaN  143.0   \n",
       "3  2009-04-01 00:00:00         8        37       135.0  NaN        NaN  123.0   \n",
       "4  2009-07-01 00:00:00        13        36       140.0  NaN        NaN  127.0   \n",
       "\n",
       "  Location  \n",
       "0  MPCB-KR  \n",
       "1  MPCB-KR  \n",
       "2  MPCB-KR  \n",
       "3  MPCB-KR  \n",
       "4  MPCB-KR  "
      ]
     },
     "execution_count": 5,
     "metadata": {},
     "output_type": "execute_result"
    }
   ],
   "source": [
    "data.head()"
   ]
  },
  {
   "cell_type": "code",
   "execution_count": 6,
   "metadata": {},
   "outputs": [
    {
     "name": "stdout",
     "output_type": "stream",
     "text": [
      "<class 'pandas.core.frame.DataFrame'>\n",
      "RangeIndex: 7844 entries, 0 to 7843\n",
      "Data columns (total 8 columns):\n",
      " #   Column      Non-Null Count  Dtype  \n",
      "---  ------      --------------  -----  \n",
      " 0   Date        7844 non-null   object \n",
      " 1   SO2 µg/m3   7844 non-null   object \n",
      " 2   Nox µg/m3   7844 non-null   object \n",
      " 3   RSPM µg/m3  7843 non-null   float64\n",
      " 4   SPM         2970 non-null   float64\n",
      " 5   CO2 µg/m3   0 non-null      float64\n",
      " 6   AQI         7787 non-null   float64\n",
      " 7   Location    7844 non-null   object \n",
      "dtypes: float64(4), object(4)\n",
      "memory usage: 490.4+ KB\n"
     ]
    }
   ],
   "source": [
    "data.info()"
   ]
  },
  {
   "cell_type": "code",
   "execution_count": 7,
   "metadata": {},
   "outputs": [
    {
     "data": {
      "text/plain": [
       "Date             0\n",
       "SO2 µg/m3        0\n",
       "Nox µg/m3        0\n",
       "RSPM µg/m3       1\n",
       "SPM           4874\n",
       "CO2 µg/m3     7844\n",
       "AQI             57\n",
       "Location         0\n",
       "dtype: int64"
      ]
     },
     "execution_count": 7,
     "metadata": {},
     "output_type": "execute_result"
    }
   ],
   "source": [
    "data.isnull().sum()"
   ]
  },
  {
   "cell_type": "markdown",
   "metadata": {},
   "source": [
    "## Feature Engineering"
   ]
  },
  {
   "cell_type": "markdown",
   "metadata": {},
   "source": [
    "### Dropping null column and sorting date"
   ]
  },
  {
   "cell_type": "code",
   "execution_count": 8,
   "metadata": {},
   "outputs": [],
   "source": [
    "data['Date'] = pd.to_datetime(data['Date'])"
   ]
  },
  {
   "cell_type": "code",
   "execution_count": 9,
   "metadata": {},
   "outputs": [],
   "source": [
    "data.drop('CO2 µg/m3',axis=1,inplace=True)"
   ]
  },
  {
   "cell_type": "code",
   "execution_count": 10,
   "metadata": {},
   "outputs": [
    {
     "data": {
      "text/plain": [
       "Karve Road          2069\n",
       "MPCB-KR             1386\n",
       "Pimpri Chinchwad     854\n",
       "Bhosari              605\n",
       "Swargate             587\n",
       "Nal Stop             575\n",
       "MPCB-BSRI            417\n",
       "MPCB-NS              405\n",
       "MPCB-SWGT            381\n",
       "MPCB-PMPR            311\n",
       "Pimpri               254\n",
       "Name: Location, dtype: int64"
      ]
     },
     "execution_count": 10,
     "metadata": {},
     "output_type": "execute_result"
    }
   ],
   "source": [
    "data['Location'].value_counts()"
   ]
  },
  {
   "cell_type": "code",
   "execution_count": 11,
   "metadata": {},
   "outputs": [],
   "source": [
    "rep={'MPCB-KR':'Karve Road','MPCB-SWGT':'Swargate','MPCB-BSRI':'Bhosari','MPCB-NS':'Nal Stop','MPCB-PMPR':'Pimpri','Pimpri Chinchwad':'Chinchwad'}\n",
    "data['Location'].replace(rep,inplace=True)"
   ]
  },
  {
   "cell_type": "code",
   "execution_count": 12,
   "metadata": {},
   "outputs": [
    {
     "data": {
      "text/plain": [
       "Date             0\n",
       "SO2 µg/m3        0\n",
       "Nox µg/m3        0\n",
       "RSPM µg/m3       1\n",
       "SPM           4874\n",
       "AQI             57\n",
       "Location         0\n",
       "dtype: int64"
      ]
     },
     "execution_count": 12,
     "metadata": {},
     "output_type": "execute_result"
    }
   ],
   "source": [
    "data.isnull().sum()"
   ]
  },
  {
   "cell_type": "code",
   "execution_count": 13,
   "metadata": {},
   "outputs": [],
   "source": [
    "data.sort_values(by=['Date'], inplace=True, ignore_index=True)"
   ]
  },
  {
   "cell_type": "code",
   "execution_count": 14,
   "metadata": {},
   "outputs": [
    {
     "data": {
      "text/html": [
       "<div>\n",
       "<style scoped>\n",
       "    .dataframe tbody tr th:only-of-type {\n",
       "        vertical-align: middle;\n",
       "    }\n",
       "\n",
       "    .dataframe tbody tr th {\n",
       "        vertical-align: top;\n",
       "    }\n",
       "\n",
       "    .dataframe thead th {\n",
       "        text-align: right;\n",
       "    }\n",
       "</style>\n",
       "<table border=\"1\" class=\"dataframe\">\n",
       "  <thead>\n",
       "    <tr style=\"text-align: right;\">\n",
       "      <th></th>\n",
       "      <th>Date</th>\n",
       "      <th>SO2 µg/m3</th>\n",
       "      <th>Nox µg/m3</th>\n",
       "      <th>RSPM µg/m3</th>\n",
       "      <th>SPM</th>\n",
       "      <th>AQI</th>\n",
       "      <th>Location</th>\n",
       "    </tr>\n",
       "  </thead>\n",
       "  <tbody>\n",
       "    <tr>\n",
       "      <th>0</th>\n",
       "      <td>2009-01-01</td>\n",
       "      <td>15</td>\n",
       "      <td>53</td>\n",
       "      <td>179.0</td>\n",
       "      <td>NaN</td>\n",
       "      <td>153.0</td>\n",
       "      <td>Karve Road</td>\n",
       "    </tr>\n",
       "    <tr>\n",
       "      <th>1</th>\n",
       "      <td>2009-01-01</td>\n",
       "      <td>19</td>\n",
       "      <td>60</td>\n",
       "      <td>161.0</td>\n",
       "      <td>366.0</td>\n",
       "      <td>141.0</td>\n",
       "      <td>Swargate</td>\n",
       "    </tr>\n",
       "    <tr>\n",
       "      <th>2</th>\n",
       "      <td>2009-01-02</td>\n",
       "      <td>BDL - NA</td>\n",
       "      <td>16</td>\n",
       "      <td>140.0</td>\n",
       "      <td>NaN</td>\n",
       "      <td>127.0</td>\n",
       "      <td>Karve Road</td>\n",
       "    </tr>\n",
       "    <tr>\n",
       "      <th>3</th>\n",
       "      <td>2009-01-04</td>\n",
       "      <td>26</td>\n",
       "      <td>28</td>\n",
       "      <td>102.0</td>\n",
       "      <td>261.0</td>\n",
       "      <td>101.0</td>\n",
       "      <td>Bhosari</td>\n",
       "    </tr>\n",
       "    <tr>\n",
       "      <th>4</th>\n",
       "      <td>2009-01-04</td>\n",
       "      <td>20</td>\n",
       "      <td>20</td>\n",
       "      <td>150.0</td>\n",
       "      <td>NaN</td>\n",
       "      <td>133.0</td>\n",
       "      <td>Karve Road</td>\n",
       "    </tr>\n",
       "  </tbody>\n",
       "</table>\n",
       "</div>"
      ],
      "text/plain": [
       "        Date SO2 µg/m3 Nox µg/m3  RSPM µg/m3    SPM    AQI    Location\n",
       "0 2009-01-01        15        53       179.0    NaN  153.0  Karve Road\n",
       "1 2009-01-01        19        60       161.0  366.0  141.0    Swargate\n",
       "2 2009-01-02  BDL - NA        16       140.0    NaN  127.0  Karve Road\n",
       "3 2009-01-04        26        28       102.0  261.0  101.0     Bhosari\n",
       "4 2009-01-04        20        20       150.0    NaN  133.0  Karve Road"
      ]
     },
     "execution_count": 14,
     "metadata": {},
     "output_type": "execute_result"
    }
   ],
   "source": [
    "data.head()"
   ]
  },
  {
   "cell_type": "markdown",
   "metadata": {},
   "source": [
    "### Removing NaN/Na values"
   ]
  },
  {
   "cell_type": "code",
   "execution_count": 15,
   "metadata": {},
   "outputs": [
    {
     "data": {
      "text/html": [
       "<div>\n",
       "<style scoped>\n",
       "    .dataframe tbody tr th:only-of-type {\n",
       "        vertical-align: middle;\n",
       "    }\n",
       "\n",
       "    .dataframe tbody tr th {\n",
       "        vertical-align: top;\n",
       "    }\n",
       "\n",
       "    .dataframe thead th {\n",
       "        text-align: right;\n",
       "    }\n",
       "</style>\n",
       "<table border=\"1\" class=\"dataframe\">\n",
       "  <thead>\n",
       "    <tr style=\"text-align: right;\">\n",
       "      <th></th>\n",
       "      <th>Date</th>\n",
       "      <th>SO2 µg/m3</th>\n",
       "      <th>Nox µg/m3</th>\n",
       "      <th>RSPM µg/m3</th>\n",
       "      <th>SPM</th>\n",
       "      <th>AQI</th>\n",
       "      <th>Location</th>\n",
       "    </tr>\n",
       "  </thead>\n",
       "  <tbody>\n",
       "    <tr>\n",
       "      <th>211</th>\n",
       "      <td>2009-04-30</td>\n",
       "      <td>BDL - NA</td>\n",
       "      <td>BDL - NA</td>\n",
       "      <td>NaN</td>\n",
       "      <td>0.0</td>\n",
       "      <td>0.0</td>\n",
       "      <td>Swargate</td>\n",
       "    </tr>\n",
       "    <tr>\n",
       "      <th>390</th>\n",
       "      <td>2009-08-13</td>\n",
       "      <td>BDL - NA</td>\n",
       "      <td>BDL - NA</td>\n",
       "      <td>64.0</td>\n",
       "      <td>NaN</td>\n",
       "      <td>64.0</td>\n",
       "      <td>Karve Road</td>\n",
       "    </tr>\n",
       "    <tr>\n",
       "      <th>392</th>\n",
       "      <td>2009-08-14</td>\n",
       "      <td>BDL - NA</td>\n",
       "      <td>BDL - NA</td>\n",
       "      <td>63.0</td>\n",
       "      <td>NaN</td>\n",
       "      <td>63.0</td>\n",
       "      <td>Karve Road</td>\n",
       "    </tr>\n",
       "    <tr>\n",
       "      <th>394</th>\n",
       "      <td>2009-08-15</td>\n",
       "      <td>BDL - NA</td>\n",
       "      <td>BDL - NA</td>\n",
       "      <td>50.0</td>\n",
       "      <td>NaN</td>\n",
       "      <td>50.0</td>\n",
       "      <td>Karve Road</td>\n",
       "    </tr>\n",
       "    <tr>\n",
       "      <th>395</th>\n",
       "      <td>2009-08-16</td>\n",
       "      <td>BDL - NA</td>\n",
       "      <td>BDL - NA</td>\n",
       "      <td>48.0</td>\n",
       "      <td>NaN</td>\n",
       "      <td>48.0</td>\n",
       "      <td>Karve Road</td>\n",
       "    </tr>\n",
       "    <tr>\n",
       "      <th>396</th>\n",
       "      <td>2009-08-17</td>\n",
       "      <td>BDL - NA</td>\n",
       "      <td>BDL - NA</td>\n",
       "      <td>62.0</td>\n",
       "      <td>NaN</td>\n",
       "      <td>62.0</td>\n",
       "      <td>Karve Road</td>\n",
       "    </tr>\n",
       "    <tr>\n",
       "      <th>1257</th>\n",
       "      <td>2011-01-06</td>\n",
       "      <td>4</td>\n",
       "      <td>BDL - NA</td>\n",
       "      <td>54.0</td>\n",
       "      <td>NaN</td>\n",
       "      <td>54.0</td>\n",
       "      <td>Karve Road</td>\n",
       "    </tr>\n",
       "    <tr>\n",
       "      <th>1310</th>\n",
       "      <td>2011-02-06</td>\n",
       "      <td>4</td>\n",
       "      <td>BDL - NA</td>\n",
       "      <td>53.0</td>\n",
       "      <td>NaN</td>\n",
       "      <td>53.0</td>\n",
       "      <td>Karve Road</td>\n",
       "    </tr>\n",
       "    <tr>\n",
       "      <th>1362</th>\n",
       "      <td>2011-03-06</td>\n",
       "      <td>5</td>\n",
       "      <td>BDL - NA</td>\n",
       "      <td>71.0</td>\n",
       "      <td>NaN</td>\n",
       "      <td>71.0</td>\n",
       "      <td>Karve Road</td>\n",
       "    </tr>\n",
       "    <tr>\n",
       "      <th>1417</th>\n",
       "      <td>2011-04-06</td>\n",
       "      <td>6</td>\n",
       "      <td>BDL - NA</td>\n",
       "      <td>64.0</td>\n",
       "      <td>NaN</td>\n",
       "      <td>64.0</td>\n",
       "      <td>Karve Road</td>\n",
       "    </tr>\n",
       "    <tr>\n",
       "      <th>1472</th>\n",
       "      <td>2011-05-06</td>\n",
       "      <td>7</td>\n",
       "      <td>BDL - NA</td>\n",
       "      <td>83.0</td>\n",
       "      <td>NaN</td>\n",
       "      <td>83.0</td>\n",
       "      <td>Karve Road</td>\n",
       "    </tr>\n",
       "    <tr>\n",
       "      <th>1485</th>\n",
       "      <td>2011-05-13</td>\n",
       "      <td>5</td>\n",
       "      <td>BDL - NA</td>\n",
       "      <td>100.0</td>\n",
       "      <td>NaN</td>\n",
       "      <td>100.0</td>\n",
       "      <td>Karve Road</td>\n",
       "    </tr>\n",
       "    <tr>\n",
       "      <th>1487</th>\n",
       "      <td>2011-05-14</td>\n",
       "      <td>4</td>\n",
       "      <td>BDL - NA</td>\n",
       "      <td>127.0</td>\n",
       "      <td>NaN</td>\n",
       "      <td>118.0</td>\n",
       "      <td>Karve Road</td>\n",
       "    </tr>\n",
       "    <tr>\n",
       "      <th>1488</th>\n",
       "      <td>2011-05-15</td>\n",
       "      <td>5</td>\n",
       "      <td>BDL - NA</td>\n",
       "      <td>121.0</td>\n",
       "      <td>NaN</td>\n",
       "      <td>114.0</td>\n",
       "      <td>Karve Road</td>\n",
       "    </tr>\n",
       "    <tr>\n",
       "      <th>1489</th>\n",
       "      <td>2011-05-16</td>\n",
       "      <td>7</td>\n",
       "      <td>BDL - NA</td>\n",
       "      <td>152.0</td>\n",
       "      <td>NaN</td>\n",
       "      <td>135.0</td>\n",
       "      <td>Karve Road</td>\n",
       "    </tr>\n",
       "    <tr>\n",
       "      <th>1492</th>\n",
       "      <td>2011-05-17</td>\n",
       "      <td>6</td>\n",
       "      <td>BDL - NA</td>\n",
       "      <td>128.0</td>\n",
       "      <td>NaN</td>\n",
       "      <td>119.0</td>\n",
       "      <td>Karve Road</td>\n",
       "    </tr>\n",
       "    <tr>\n",
       "      <th>1494</th>\n",
       "      <td>2011-05-18</td>\n",
       "      <td>7</td>\n",
       "      <td>BDL - NA</td>\n",
       "      <td>118.0</td>\n",
       "      <td>NaN</td>\n",
       "      <td>112.0</td>\n",
       "      <td>Karve Road</td>\n",
       "    </tr>\n",
       "    <tr>\n",
       "      <th>1496</th>\n",
       "      <td>2011-05-19</td>\n",
       "      <td>5</td>\n",
       "      <td>BDL - NA</td>\n",
       "      <td>113.0</td>\n",
       "      <td>NaN</td>\n",
       "      <td>109.0</td>\n",
       "      <td>Karve Road</td>\n",
       "    </tr>\n",
       "    <tr>\n",
       "      <th>1498</th>\n",
       "      <td>2011-05-20</td>\n",
       "      <td>4</td>\n",
       "      <td>BDL - NA</td>\n",
       "      <td>119.0</td>\n",
       "      <td>NaN</td>\n",
       "      <td>113.0</td>\n",
       "      <td>Karve Road</td>\n",
       "    </tr>\n",
       "    <tr>\n",
       "      <th>1500</th>\n",
       "      <td>2011-05-21</td>\n",
       "      <td>4</td>\n",
       "      <td>BDL - NA</td>\n",
       "      <td>123.0</td>\n",
       "      <td>NaN</td>\n",
       "      <td>115.0</td>\n",
       "      <td>Karve Road</td>\n",
       "    </tr>\n",
       "    <tr>\n",
       "      <th>1501</th>\n",
       "      <td>2011-05-22</td>\n",
       "      <td>4</td>\n",
       "      <td>BDL - NA</td>\n",
       "      <td>87.0</td>\n",
       "      <td>NaN</td>\n",
       "      <td>87.0</td>\n",
       "      <td>Karve Road</td>\n",
       "    </tr>\n",
       "    <tr>\n",
       "      <th>1502</th>\n",
       "      <td>2011-05-23</td>\n",
       "      <td>4</td>\n",
       "      <td>BDL - NA</td>\n",
       "      <td>87.0</td>\n",
       "      <td>NaN</td>\n",
       "      <td>87.0</td>\n",
       "      <td>Karve Road</td>\n",
       "    </tr>\n",
       "    <tr>\n",
       "      <th>1505</th>\n",
       "      <td>2011-05-24</td>\n",
       "      <td>BDL - 3</td>\n",
       "      <td>BDL - NA</td>\n",
       "      <td>95.0</td>\n",
       "      <td>NaN</td>\n",
       "      <td>95.0</td>\n",
       "      <td>Karve Road</td>\n",
       "    </tr>\n",
       "    <tr>\n",
       "      <th>1507</th>\n",
       "      <td>2011-05-25</td>\n",
       "      <td>4</td>\n",
       "      <td>BDL - NA</td>\n",
       "      <td>91.0</td>\n",
       "      <td>NaN</td>\n",
       "      <td>91.0</td>\n",
       "      <td>Karve Road</td>\n",
       "    </tr>\n",
       "    <tr>\n",
       "      <th>1509</th>\n",
       "      <td>2011-05-26</td>\n",
       "      <td>4</td>\n",
       "      <td>BDL - NA</td>\n",
       "      <td>97.0</td>\n",
       "      <td>NaN</td>\n",
       "      <td>97.0</td>\n",
       "      <td>Karve Road</td>\n",
       "    </tr>\n",
       "    <tr>\n",
       "      <th>1510</th>\n",
       "      <td>2011-05-27</td>\n",
       "      <td>4</td>\n",
       "      <td>BDL - NA</td>\n",
       "      <td>105.0</td>\n",
       "      <td>NaN</td>\n",
       "      <td>103.0</td>\n",
       "      <td>Karve Road</td>\n",
       "    </tr>\n",
       "    <tr>\n",
       "      <th>1512</th>\n",
       "      <td>2011-05-28</td>\n",
       "      <td>4</td>\n",
       "      <td>BDL - NA</td>\n",
       "      <td>105.0</td>\n",
       "      <td>NaN</td>\n",
       "      <td>103.0</td>\n",
       "      <td>Karve Road</td>\n",
       "    </tr>\n",
       "    <tr>\n",
       "      <th>1514</th>\n",
       "      <td>2011-05-29</td>\n",
       "      <td>4</td>\n",
       "      <td>BDL - NA</td>\n",
       "      <td>79.0</td>\n",
       "      <td>NaN</td>\n",
       "      <td>79.0</td>\n",
       "      <td>Karve Road</td>\n",
       "    </tr>\n",
       "    <tr>\n",
       "      <th>1515</th>\n",
       "      <td>2011-05-30</td>\n",
       "      <td>BDL - 3</td>\n",
       "      <td>BDL - NA</td>\n",
       "      <td>82.0</td>\n",
       "      <td>NaN</td>\n",
       "      <td>82.0</td>\n",
       "      <td>Karve Road</td>\n",
       "    </tr>\n",
       "    <tr>\n",
       "      <th>1516</th>\n",
       "      <td>2011-05-31</td>\n",
       "      <td>4</td>\n",
       "      <td>BDL - NA</td>\n",
       "      <td>62.0</td>\n",
       "      <td>NaN</td>\n",
       "      <td>62.0</td>\n",
       "      <td>Karve Road</td>\n",
       "    </tr>\n",
       "    <tr>\n",
       "      <th>1525</th>\n",
       "      <td>2011-06-06</td>\n",
       "      <td>5</td>\n",
       "      <td>BDL - NA</td>\n",
       "      <td>64.0</td>\n",
       "      <td>NaN</td>\n",
       "      <td>64.0</td>\n",
       "      <td>Karve Road</td>\n",
       "    </tr>\n",
       "    <tr>\n",
       "      <th>1576</th>\n",
       "      <td>2011-07-06</td>\n",
       "      <td>4</td>\n",
       "      <td>BDL - NA</td>\n",
       "      <td>44.0</td>\n",
       "      <td>NaN</td>\n",
       "      <td>44.0</td>\n",
       "      <td>Karve Road</td>\n",
       "    </tr>\n",
       "    <tr>\n",
       "      <th>1634</th>\n",
       "      <td>2011-08-06</td>\n",
       "      <td>4</td>\n",
       "      <td>BDL - NA</td>\n",
       "      <td>54.0</td>\n",
       "      <td>NaN</td>\n",
       "      <td>54.0</td>\n",
       "      <td>Karve Road</td>\n",
       "    </tr>\n",
       "    <tr>\n",
       "      <th>1878</th>\n",
       "      <td>2011-12-22</td>\n",
       "      <td>16</td>\n",
       "      <td>BDL - NA</td>\n",
       "      <td>251.0</td>\n",
       "      <td>NaN</td>\n",
       "      <td>201.0</td>\n",
       "      <td>Karve Road</td>\n",
       "    </tr>\n",
       "    <tr>\n",
       "      <th>1879</th>\n",
       "      <td>2011-12-23</td>\n",
       "      <td>16</td>\n",
       "      <td>BDL - NA</td>\n",
       "      <td>215.0</td>\n",
       "      <td>NaN</td>\n",
       "      <td>177.0</td>\n",
       "      <td>Karve Road</td>\n",
       "    </tr>\n",
       "    <tr>\n",
       "      <th>1881</th>\n",
       "      <td>2011-12-24</td>\n",
       "      <td>17</td>\n",
       "      <td>BDL - NA</td>\n",
       "      <td>267.0</td>\n",
       "      <td>NaN</td>\n",
       "      <td>217.0</td>\n",
       "      <td>Karve Road</td>\n",
       "    </tr>\n",
       "    <tr>\n",
       "      <th>1883</th>\n",
       "      <td>2011-12-25</td>\n",
       "      <td>14</td>\n",
       "      <td>BDL - NA</td>\n",
       "      <td>208.0</td>\n",
       "      <td>NaN</td>\n",
       "      <td>172.0</td>\n",
       "      <td>Karve Road</td>\n",
       "    </tr>\n",
       "    <tr>\n",
       "      <th>1885</th>\n",
       "      <td>2011-12-26</td>\n",
       "      <td>11</td>\n",
       "      <td>BDL - NA</td>\n",
       "      <td>175.0</td>\n",
       "      <td>NaN</td>\n",
       "      <td>150.0</td>\n",
       "      <td>Karve Road</td>\n",
       "    </tr>\n",
       "    <tr>\n",
       "      <th>1886</th>\n",
       "      <td>2011-12-27</td>\n",
       "      <td>10</td>\n",
       "      <td>BDL - NA</td>\n",
       "      <td>148.0</td>\n",
       "      <td>NaN</td>\n",
       "      <td>132.0</td>\n",
       "      <td>Karve Road</td>\n",
       "    </tr>\n",
       "    <tr>\n",
       "      <th>1888</th>\n",
       "      <td>2011-12-28</td>\n",
       "      <td>15</td>\n",
       "      <td>BDL - NA</td>\n",
       "      <td>202.0</td>\n",
       "      <td>NaN</td>\n",
       "      <td>168.0</td>\n",
       "      <td>Karve Road</td>\n",
       "    </tr>\n",
       "    <tr>\n",
       "      <th>1890</th>\n",
       "      <td>2011-12-29</td>\n",
       "      <td>14</td>\n",
       "      <td>BDL - NA</td>\n",
       "      <td>221.0</td>\n",
       "      <td>NaN</td>\n",
       "      <td>181.0</td>\n",
       "      <td>Karve Road</td>\n",
       "    </tr>\n",
       "    <tr>\n",
       "      <th>1892</th>\n",
       "      <td>2011-12-30</td>\n",
       "      <td>17</td>\n",
       "      <td>BDL - NA</td>\n",
       "      <td>234.0</td>\n",
       "      <td>NaN</td>\n",
       "      <td>189.0</td>\n",
       "      <td>Karve Road</td>\n",
       "    </tr>\n",
       "    <tr>\n",
       "      <th>1894</th>\n",
       "      <td>2011-12-31</td>\n",
       "      <td>10</td>\n",
       "      <td>BDL - NA</td>\n",
       "      <td>155.0</td>\n",
       "      <td>NaN</td>\n",
       "      <td>137.0</td>\n",
       "      <td>Karve Road</td>\n",
       "    </tr>\n",
       "  </tbody>\n",
       "</table>\n",
       "</div>"
      ],
      "text/plain": [
       "           Date SO2 µg/m3 Nox µg/m3  RSPM µg/m3  SPM    AQI    Location\n",
       "211  2009-04-30  BDL - NA  BDL - NA         NaN  0.0    0.0    Swargate\n",
       "390  2009-08-13  BDL - NA  BDL - NA        64.0  NaN   64.0  Karve Road\n",
       "392  2009-08-14  BDL - NA  BDL - NA        63.0  NaN   63.0  Karve Road\n",
       "394  2009-08-15  BDL - NA  BDL - NA        50.0  NaN   50.0  Karve Road\n",
       "395  2009-08-16  BDL - NA  BDL - NA        48.0  NaN   48.0  Karve Road\n",
       "396  2009-08-17  BDL - NA  BDL - NA        62.0  NaN   62.0  Karve Road\n",
       "1257 2011-01-06         4  BDL - NA        54.0  NaN   54.0  Karve Road\n",
       "1310 2011-02-06         4  BDL - NA        53.0  NaN   53.0  Karve Road\n",
       "1362 2011-03-06         5  BDL - NA        71.0  NaN   71.0  Karve Road\n",
       "1417 2011-04-06         6  BDL - NA        64.0  NaN   64.0  Karve Road\n",
       "1472 2011-05-06         7  BDL - NA        83.0  NaN   83.0  Karve Road\n",
       "1485 2011-05-13         5  BDL - NA       100.0  NaN  100.0  Karve Road\n",
       "1487 2011-05-14         4  BDL - NA       127.0  NaN  118.0  Karve Road\n",
       "1488 2011-05-15         5  BDL - NA       121.0  NaN  114.0  Karve Road\n",
       "1489 2011-05-16         7  BDL - NA       152.0  NaN  135.0  Karve Road\n",
       "1492 2011-05-17         6  BDL - NA       128.0  NaN  119.0  Karve Road\n",
       "1494 2011-05-18         7  BDL - NA       118.0  NaN  112.0  Karve Road\n",
       "1496 2011-05-19         5  BDL - NA       113.0  NaN  109.0  Karve Road\n",
       "1498 2011-05-20         4  BDL - NA       119.0  NaN  113.0  Karve Road\n",
       "1500 2011-05-21         4  BDL - NA       123.0  NaN  115.0  Karve Road\n",
       "1501 2011-05-22         4  BDL - NA        87.0  NaN   87.0  Karve Road\n",
       "1502 2011-05-23         4  BDL - NA        87.0  NaN   87.0  Karve Road\n",
       "1505 2011-05-24   BDL - 3  BDL - NA        95.0  NaN   95.0  Karve Road\n",
       "1507 2011-05-25         4  BDL - NA        91.0  NaN   91.0  Karve Road\n",
       "1509 2011-05-26         4  BDL - NA        97.0  NaN   97.0  Karve Road\n",
       "1510 2011-05-27         4  BDL - NA       105.0  NaN  103.0  Karve Road\n",
       "1512 2011-05-28         4  BDL - NA       105.0  NaN  103.0  Karve Road\n",
       "1514 2011-05-29         4  BDL - NA        79.0  NaN   79.0  Karve Road\n",
       "1515 2011-05-30   BDL - 3  BDL - NA        82.0  NaN   82.0  Karve Road\n",
       "1516 2011-05-31         4  BDL - NA        62.0  NaN   62.0  Karve Road\n",
       "1525 2011-06-06         5  BDL - NA        64.0  NaN   64.0  Karve Road\n",
       "1576 2011-07-06         4  BDL - NA        44.0  NaN   44.0  Karve Road\n",
       "1634 2011-08-06         4  BDL - NA        54.0  NaN   54.0  Karve Road\n",
       "1878 2011-12-22        16  BDL - NA       251.0  NaN  201.0  Karve Road\n",
       "1879 2011-12-23        16  BDL - NA       215.0  NaN  177.0  Karve Road\n",
       "1881 2011-12-24        17  BDL - NA       267.0  NaN  217.0  Karve Road\n",
       "1883 2011-12-25        14  BDL - NA       208.0  NaN  172.0  Karve Road\n",
       "1885 2011-12-26        11  BDL - NA       175.0  NaN  150.0  Karve Road\n",
       "1886 2011-12-27        10  BDL - NA       148.0  NaN  132.0  Karve Road\n",
       "1888 2011-12-28        15  BDL - NA       202.0  NaN  168.0  Karve Road\n",
       "1890 2011-12-29        14  BDL - NA       221.0  NaN  181.0  Karve Road\n",
       "1892 2011-12-30        17  BDL - NA       234.0  NaN  189.0  Karve Road\n",
       "1894 2011-12-31        10  BDL - NA       155.0  NaN  137.0  Karve Road"
      ]
     },
     "execution_count": 15,
     "metadata": {},
     "output_type": "execute_result"
    }
   ],
   "source": [
    "data.loc[data['Nox µg/m3']=='BDL -\\xa0NA']"
   ]
  },
  {
   "cell_type": "code",
   "execution_count": 16,
   "metadata": {},
   "outputs": [],
   "source": [
    "data_test = data.copy()"
   ]
  },
  {
   "cell_type": "code",
   "execution_count": 17,
   "metadata": {},
   "outputs": [],
   "source": [
    "for _, col in enumerate(list(data_test.columns[1:3])):\n",
    "    data_test[f'{col} BDL'] = data_test[f'{col}'].map(lambda x: 1 if 'BDL' in x else 0)\n",
    "    data_test[f'{col}'] = data_test[f'{col}'].apply(lambda x: x[-3:])\n",
    "    data_test[f'{col}'] = data_test[f'{col}'].apply(lambda x: 0 if 'NA' in x else int((re.findall(r'\\d+',x))[0]))"
   ]
  },
  {
   "cell_type": "markdown",
   "metadata": {},
   "source": [
    "### Removing Outliers"
   ]
  },
  {
   "cell_type": "code",
   "execution_count": 18,
   "metadata": {},
   "outputs": [
    {
     "data": {
      "text/html": [
       "<div>\n",
       "<style scoped>\n",
       "    .dataframe tbody tr th:only-of-type {\n",
       "        vertical-align: middle;\n",
       "    }\n",
       "\n",
       "    .dataframe tbody tr th {\n",
       "        vertical-align: top;\n",
       "    }\n",
       "\n",
       "    .dataframe thead th {\n",
       "        text-align: right;\n",
       "    }\n",
       "</style>\n",
       "<table border=\"1\" class=\"dataframe\">\n",
       "  <thead>\n",
       "    <tr style=\"text-align: right;\">\n",
       "      <th></th>\n",
       "      <th>Date</th>\n",
       "      <th>SO2 µg/m3</th>\n",
       "      <th>Nox µg/m3</th>\n",
       "      <th>RSPM µg/m3</th>\n",
       "      <th>SPM</th>\n",
       "      <th>AQI</th>\n",
       "      <th>Location</th>\n",
       "      <th>SO2 µg/m3 BDL</th>\n",
       "      <th>Nox µg/m3 BDL</th>\n",
       "    </tr>\n",
       "  </thead>\n",
       "  <tbody>\n",
       "    <tr>\n",
       "      <th>1242</th>\n",
       "      <td>2010-12-28</td>\n",
       "      <td>65</td>\n",
       "      <td>128</td>\n",
       "      <td>372.0</td>\n",
       "      <td>NaN</td>\n",
       "      <td>328.0</td>\n",
       "      <td>Karve Road</td>\n",
       "      <td>0</td>\n",
       "      <td>0</td>\n",
       "    </tr>\n",
       "    <tr>\n",
       "      <th>1588</th>\n",
       "      <td>2011-07-12</td>\n",
       "      <td>52</td>\n",
       "      <td>60</td>\n",
       "      <td>300.0</td>\n",
       "      <td>555.0</td>\n",
       "      <td>250.0</td>\n",
       "      <td>Bhosari</td>\n",
       "      <td>0</td>\n",
       "      <td>0</td>\n",
       "    </tr>\n",
       "    <tr>\n",
       "      <th>1665</th>\n",
       "      <td>2011-08-24</td>\n",
       "      <td>56</td>\n",
       "      <td>60</td>\n",
       "      <td>239.0</td>\n",
       "      <td>735.0</td>\n",
       "      <td>193.0</td>\n",
       "      <td>Bhosari</td>\n",
       "      <td>0</td>\n",
       "      <td>0</td>\n",
       "    </tr>\n",
       "    <tr>\n",
       "      <th>1771</th>\n",
       "      <td>2011-10-26</td>\n",
       "      <td>54</td>\n",
       "      <td>142</td>\n",
       "      <td>225.0</td>\n",
       "      <td>NaN</td>\n",
       "      <td>183.0</td>\n",
       "      <td>Karve Road</td>\n",
       "      <td>0</td>\n",
       "      <td>0</td>\n",
       "    </tr>\n",
       "    <tr>\n",
       "      <th>1840</th>\n",
       "      <td>2011-12-01</td>\n",
       "      <td>95</td>\n",
       "      <td>85</td>\n",
       "      <td>237.0</td>\n",
       "      <td>618.0</td>\n",
       "      <td>191.0</td>\n",
       "      <td>Bhosari</td>\n",
       "      <td>0</td>\n",
       "      <td>0</td>\n",
       "    </tr>\n",
       "    <tr>\n",
       "      <th>1876</th>\n",
       "      <td>2011-12-21</td>\n",
       "      <td>59</td>\n",
       "      <td>52</td>\n",
       "      <td>271.0</td>\n",
       "      <td>417.0</td>\n",
       "      <td>221.0</td>\n",
       "      <td>Bhosari</td>\n",
       "      <td>0</td>\n",
       "      <td>0</td>\n",
       "    </tr>\n",
       "    <tr>\n",
       "      <th>1889</th>\n",
       "      <td>2011-12-28</td>\n",
       "      <td>59</td>\n",
       "      <td>85</td>\n",
       "      <td>267.0</td>\n",
       "      <td>610.0</td>\n",
       "      <td>217.0</td>\n",
       "      <td>Bhosari</td>\n",
       "      <td>0</td>\n",
       "      <td>0</td>\n",
       "    </tr>\n",
       "    <tr>\n",
       "      <th>1930</th>\n",
       "      <td>2012-01-14</td>\n",
       "      <td>60</td>\n",
       "      <td>75</td>\n",
       "      <td>285.0</td>\n",
       "      <td>406.0</td>\n",
       "      <td>235.0</td>\n",
       "      <td>Bhosari</td>\n",
       "      <td>0</td>\n",
       "      <td>0</td>\n",
       "    </tr>\n",
       "    <tr>\n",
       "      <th>1941</th>\n",
       "      <td>2012-01-18</td>\n",
       "      <td>61</td>\n",
       "      <td>71</td>\n",
       "      <td>307.0</td>\n",
       "      <td>454.0</td>\n",
       "      <td>257.0</td>\n",
       "      <td>Bhosari</td>\n",
       "      <td>0</td>\n",
       "      <td>0</td>\n",
       "    </tr>\n",
       "    <tr>\n",
       "      <th>4709</th>\n",
       "      <td>2014-12-23</td>\n",
       "      <td>53</td>\n",
       "      <td>9</td>\n",
       "      <td>280.0</td>\n",
       "      <td>NaN</td>\n",
       "      <td>230.0</td>\n",
       "      <td>Karve Road</td>\n",
       "      <td>0</td>\n",
       "      <td>0</td>\n",
       "    </tr>\n",
       "    <tr>\n",
       "      <th>5418</th>\n",
       "      <td>2016-01-07</td>\n",
       "      <td>136</td>\n",
       "      <td>162</td>\n",
       "      <td>36.0</td>\n",
       "      <td>NaN</td>\n",
       "      <td>182.0</td>\n",
       "      <td>Karve Road</td>\n",
       "      <td>0</td>\n",
       "      <td>0</td>\n",
       "    </tr>\n",
       "    <tr>\n",
       "      <th>5782</th>\n",
       "      <td>2016-06-12</td>\n",
       "      <td>57</td>\n",
       "      <td>116</td>\n",
       "      <td>274.0</td>\n",
       "      <td>369.0</td>\n",
       "      <td>224.0</td>\n",
       "      <td>Bhosari</td>\n",
       "      <td>0</td>\n",
       "      <td>0</td>\n",
       "    </tr>\n",
       "    <tr>\n",
       "      <th>6073</th>\n",
       "      <td>2016-10-30</td>\n",
       "      <td>52</td>\n",
       "      <td>99</td>\n",
       "      <td>302.0</td>\n",
       "      <td>486.0</td>\n",
       "      <td>252.0</td>\n",
       "      <td>Swargate</td>\n",
       "      <td>0</td>\n",
       "      <td>0</td>\n",
       "    </tr>\n",
       "    <tr>\n",
       "      <th>6190</th>\n",
       "      <td>2016-12-16</td>\n",
       "      <td>59</td>\n",
       "      <td>94</td>\n",
       "      <td>269.0</td>\n",
       "      <td>467.0</td>\n",
       "      <td>219.0</td>\n",
       "      <td>Bhosari</td>\n",
       "      <td>0</td>\n",
       "      <td>0</td>\n",
       "    </tr>\n",
       "    <tr>\n",
       "      <th>7287</th>\n",
       "      <td>2018-07-12</td>\n",
       "      <td>63</td>\n",
       "      <td>131</td>\n",
       "      <td>98.0</td>\n",
       "      <td>NaN</td>\n",
       "      <td>151.0</td>\n",
       "      <td>Pimpri</td>\n",
       "      <td>0</td>\n",
       "      <td>0</td>\n",
       "    </tr>\n",
       "    <tr>\n",
       "      <th>7644</th>\n",
       "      <td>2018-12-24</td>\n",
       "      <td>76</td>\n",
       "      <td>137</td>\n",
       "      <td>330.0</td>\n",
       "      <td>NaN</td>\n",
       "      <td>280.0</td>\n",
       "      <td>Pimpri</td>\n",
       "      <td>0</td>\n",
       "      <td>0</td>\n",
       "    </tr>\n",
       "    <tr>\n",
       "      <th>7676</th>\n",
       "      <td>2019-01-14</td>\n",
       "      <td>57</td>\n",
       "      <td>117</td>\n",
       "      <td>260.0</td>\n",
       "      <td>640.0</td>\n",
       "      <td>210.0</td>\n",
       "      <td>Nal Stop</td>\n",
       "      <td>0</td>\n",
       "      <td>0</td>\n",
       "    </tr>\n",
       "    <tr>\n",
       "      <th>7734</th>\n",
       "      <td>2019-02-18</td>\n",
       "      <td>74</td>\n",
       "      <td>137</td>\n",
       "      <td>129.0</td>\n",
       "      <td>200.0</td>\n",
       "      <td>157.0</td>\n",
       "      <td>Nal Stop</td>\n",
       "      <td>0</td>\n",
       "      <td>0</td>\n",
       "    </tr>\n",
       "    <tr>\n",
       "      <th>7813</th>\n",
       "      <td>2019-08-02</td>\n",
       "      <td>59</td>\n",
       "      <td>103</td>\n",
       "      <td>245.0</td>\n",
       "      <td>625.0</td>\n",
       "      <td>197.0</td>\n",
       "      <td>Bhosari</td>\n",
       "      <td>0</td>\n",
       "      <td>0</td>\n",
       "    </tr>\n",
       "    <tr>\n",
       "      <th>5575</th>\n",
       "      <td>2016-03-12</td>\n",
       "      <td>35</td>\n",
       "      <td>171</td>\n",
       "      <td>177.0</td>\n",
       "      <td>773.0</td>\n",
       "      <td>191.0</td>\n",
       "      <td>Swargate</td>\n",
       "      <td>0</td>\n",
       "      <td>0</td>\n",
       "    </tr>\n",
       "    <tr>\n",
       "      <th>5838</th>\n",
       "      <td>2016-07-12</td>\n",
       "      <td>31</td>\n",
       "      <td>158</td>\n",
       "      <td>236.0</td>\n",
       "      <td>680.0</td>\n",
       "      <td>191.0</td>\n",
       "      <td>Swargate</td>\n",
       "      <td>0</td>\n",
       "      <td>0</td>\n",
       "    </tr>\n",
       "    <tr>\n",
       "      <th>6037</th>\n",
       "      <td>2016-10-12</td>\n",
       "      <td>27</td>\n",
       "      <td>136</td>\n",
       "      <td>181.0</td>\n",
       "      <td>577.0</td>\n",
       "      <td>156.0</td>\n",
       "      <td>Swargate</td>\n",
       "      <td>0</td>\n",
       "      <td>0</td>\n",
       "    </tr>\n",
       "    <tr>\n",
       "      <th>6152</th>\n",
       "      <td>2016-11-30</td>\n",
       "      <td>28</td>\n",
       "      <td>201</td>\n",
       "      <td>189.0</td>\n",
       "      <td>646.0</td>\n",
       "      <td>221.0</td>\n",
       "      <td>Swargate</td>\n",
       "      <td>0</td>\n",
       "      <td>0</td>\n",
       "    </tr>\n",
       "    <tr>\n",
       "      <th>6192</th>\n",
       "      <td>2016-12-17</td>\n",
       "      <td>34</td>\n",
       "      <td>156</td>\n",
       "      <td>151.0</td>\n",
       "      <td>733.0</td>\n",
       "      <td>176.0</td>\n",
       "      <td>Swargate</td>\n",
       "      <td>0</td>\n",
       "      <td>0</td>\n",
       "    </tr>\n",
       "    <tr>\n",
       "      <th>6200</th>\n",
       "      <td>2016-12-21</td>\n",
       "      <td>16</td>\n",
       "      <td>143</td>\n",
       "      <td>227.0</td>\n",
       "      <td>629.0</td>\n",
       "      <td>185.0</td>\n",
       "      <td>Swargate</td>\n",
       "      <td>0</td>\n",
       "      <td>0</td>\n",
       "    </tr>\n",
       "    <tr>\n",
       "      <th>6212</th>\n",
       "      <td>2016-12-28</td>\n",
       "      <td>19</td>\n",
       "      <td>162</td>\n",
       "      <td>264.0</td>\n",
       "      <td>929.0</td>\n",
       "      <td>214.0</td>\n",
       "      <td>Swargate</td>\n",
       "      <td>0</td>\n",
       "      <td>0</td>\n",
       "    </tr>\n",
       "    <tr>\n",
       "      <th>6218</th>\n",
       "      <td>2016-12-31</td>\n",
       "      <td>20</td>\n",
       "      <td>173</td>\n",
       "      <td>228.0</td>\n",
       "      <td>716.0</td>\n",
       "      <td>193.0</td>\n",
       "      <td>Swargate</td>\n",
       "      <td>0</td>\n",
       "      <td>0</td>\n",
       "    </tr>\n",
       "    <tr>\n",
       "      <th>6368</th>\n",
       "      <td>2017-04-01</td>\n",
       "      <td>14</td>\n",
       "      <td>130</td>\n",
       "      <td>179.0</td>\n",
       "      <td>637.0</td>\n",
       "      <td>153.0</td>\n",
       "      <td>Swargate</td>\n",
       "      <td>0</td>\n",
       "      <td>0</td>\n",
       "    </tr>\n",
       "    <tr>\n",
       "      <th>6797</th>\n",
       "      <td>2017-12-01</td>\n",
       "      <td>16</td>\n",
       "      <td>131</td>\n",
       "      <td>273.0</td>\n",
       "      <td>585.0</td>\n",
       "      <td>223.0</td>\n",
       "      <td>Nal Stop</td>\n",
       "      <td>0</td>\n",
       "      <td>0</td>\n",
       "    </tr>\n",
       "    <tr>\n",
       "      <th>1118</th>\n",
       "      <td>2010-10-12</td>\n",
       "      <td>17</td>\n",
       "      <td>45</td>\n",
       "      <td>370.0</td>\n",
       "      <td>1922.0</td>\n",
       "      <td>325.0</td>\n",
       "      <td>Nal Stop</td>\n",
       "      <td>0</td>\n",
       "      <td>0</td>\n",
       "    </tr>\n",
       "    <tr>\n",
       "      <th>1337</th>\n",
       "      <td>2011-02-21</td>\n",
       "      <td>18</td>\n",
       "      <td>107</td>\n",
       "      <td>391.0</td>\n",
       "      <td>584.0</td>\n",
       "      <td>351.0</td>\n",
       "      <td>Swargate</td>\n",
       "      <td>0</td>\n",
       "      <td>0</td>\n",
       "    </tr>\n",
       "    <tr>\n",
       "      <th>1882</th>\n",
       "      <td>2011-12-25</td>\n",
       "      <td>50</td>\n",
       "      <td>70</td>\n",
       "      <td>304.0</td>\n",
       "      <td>604.0</td>\n",
       "      <td>254.0</td>\n",
       "      <td>Bhosari</td>\n",
       "      <td>0</td>\n",
       "      <td>0</td>\n",
       "    </tr>\n",
       "    <tr>\n",
       "      <th>2130</th>\n",
       "      <td>2012-04-02</td>\n",
       "      <td>31</td>\n",
       "      <td>54</td>\n",
       "      <td>354.0</td>\n",
       "      <td>595.0</td>\n",
       "      <td>305.0</td>\n",
       "      <td>Bhosari</td>\n",
       "      <td>0</td>\n",
       "      <td>0</td>\n",
       "    </tr>\n",
       "    <tr>\n",
       "      <th>2860</th>\n",
       "      <td>2013-01-13</td>\n",
       "      <td>13</td>\n",
       "      <td>58</td>\n",
       "      <td>514.0</td>\n",
       "      <td>692.0</td>\n",
       "      <td>505.0</td>\n",
       "      <td>Bhosari</td>\n",
       "      <td>0</td>\n",
       "      <td>0</td>\n",
       "    </tr>\n",
       "    <tr>\n",
       "      <th>4114</th>\n",
       "      <td>2014-05-05</td>\n",
       "      <td>23</td>\n",
       "      <td>62</td>\n",
       "      <td>281.0</td>\n",
       "      <td>634.0</td>\n",
       "      <td>231.0</td>\n",
       "      <td>Nal Stop</td>\n",
       "      <td>0</td>\n",
       "      <td>0</td>\n",
       "    </tr>\n",
       "    <tr>\n",
       "      <th>5331</th>\n",
       "      <td>2015-11-28</td>\n",
       "      <td>39</td>\n",
       "      <td>73</td>\n",
       "      <td>286.0</td>\n",
       "      <td>752.0</td>\n",
       "      <td>236.0</td>\n",
       "      <td>Swargate</td>\n",
       "      <td>0</td>\n",
       "      <td>0</td>\n",
       "    </tr>\n",
       "    <tr>\n",
       "      <th>6183</th>\n",
       "      <td>2016-12-13</td>\n",
       "      <td>49</td>\n",
       "      <td>72</td>\n",
       "      <td>271.0</td>\n",
       "      <td>646.0</td>\n",
       "      <td>221.0</td>\n",
       "      <td>Bhosari</td>\n",
       "      <td>0</td>\n",
       "      <td>0</td>\n",
       "    </tr>\n",
       "    <tr>\n",
       "      <th>7655</th>\n",
       "      <td>2018-12-28</td>\n",
       "      <td>32</td>\n",
       "      <td>57</td>\n",
       "      <td>276.0</td>\n",
       "      <td>608.0</td>\n",
       "      <td>226.0</td>\n",
       "      <td>Bhosari</td>\n",
       "      <td>0</td>\n",
       "      <td>0</td>\n",
       "    </tr>\n",
       "  </tbody>\n",
       "</table>\n",
       "</div>"
      ],
      "text/plain": [
       "           Date  SO2 µg/m3  Nox µg/m3  RSPM µg/m3     SPM    AQI    Location  \\\n",
       "1242 2010-12-28         65        128       372.0     NaN  328.0  Karve Road   \n",
       "1588 2011-07-12         52         60       300.0   555.0  250.0     Bhosari   \n",
       "1665 2011-08-24         56         60       239.0   735.0  193.0     Bhosari   \n",
       "1771 2011-10-26         54        142       225.0     NaN  183.0  Karve Road   \n",
       "1840 2011-12-01         95         85       237.0   618.0  191.0     Bhosari   \n",
       "1876 2011-12-21         59         52       271.0   417.0  221.0     Bhosari   \n",
       "1889 2011-12-28         59         85       267.0   610.0  217.0     Bhosari   \n",
       "1930 2012-01-14         60         75       285.0   406.0  235.0     Bhosari   \n",
       "1941 2012-01-18         61         71       307.0   454.0  257.0     Bhosari   \n",
       "4709 2014-12-23         53          9       280.0     NaN  230.0  Karve Road   \n",
       "5418 2016-01-07        136        162        36.0     NaN  182.0  Karve Road   \n",
       "5782 2016-06-12         57        116       274.0   369.0  224.0     Bhosari   \n",
       "6073 2016-10-30         52         99       302.0   486.0  252.0    Swargate   \n",
       "6190 2016-12-16         59         94       269.0   467.0  219.0     Bhosari   \n",
       "7287 2018-07-12         63        131        98.0     NaN  151.0      Pimpri   \n",
       "7644 2018-12-24         76        137       330.0     NaN  280.0      Pimpri   \n",
       "7676 2019-01-14         57        117       260.0   640.0  210.0    Nal Stop   \n",
       "7734 2019-02-18         74        137       129.0   200.0  157.0    Nal Stop   \n",
       "7813 2019-08-02         59        103       245.0   625.0  197.0     Bhosari   \n",
       "5575 2016-03-12         35        171       177.0   773.0  191.0    Swargate   \n",
       "5838 2016-07-12         31        158       236.0   680.0  191.0    Swargate   \n",
       "6037 2016-10-12         27        136       181.0   577.0  156.0    Swargate   \n",
       "6152 2016-11-30         28        201       189.0   646.0  221.0    Swargate   \n",
       "6192 2016-12-17         34        156       151.0   733.0  176.0    Swargate   \n",
       "6200 2016-12-21         16        143       227.0   629.0  185.0    Swargate   \n",
       "6212 2016-12-28         19        162       264.0   929.0  214.0    Swargate   \n",
       "6218 2016-12-31         20        173       228.0   716.0  193.0    Swargate   \n",
       "6368 2017-04-01         14        130       179.0   637.0  153.0    Swargate   \n",
       "6797 2017-12-01         16        131       273.0   585.0  223.0    Nal Stop   \n",
       "1118 2010-10-12         17         45       370.0  1922.0  325.0    Nal Stop   \n",
       "1337 2011-02-21         18        107       391.0   584.0  351.0    Swargate   \n",
       "1882 2011-12-25         50         70       304.0   604.0  254.0     Bhosari   \n",
       "2130 2012-04-02         31         54       354.0   595.0  305.0     Bhosari   \n",
       "2860 2013-01-13         13         58       514.0   692.0  505.0     Bhosari   \n",
       "4114 2014-05-05         23         62       281.0   634.0  231.0    Nal Stop   \n",
       "5331 2015-11-28         39         73       286.0   752.0  236.0    Swargate   \n",
       "6183 2016-12-13         49         72       271.0   646.0  221.0     Bhosari   \n",
       "7655 2018-12-28         32         57       276.0   608.0  226.0     Bhosari   \n",
       "\n",
       "      SO2 µg/m3 BDL  Nox µg/m3 BDL  \n",
       "1242              0              0  \n",
       "1588              0              0  \n",
       "1665              0              0  \n",
       "1771              0              0  \n",
       "1840              0              0  \n",
       "1876              0              0  \n",
       "1889              0              0  \n",
       "1930              0              0  \n",
       "1941              0              0  \n",
       "4709              0              0  \n",
       "5418              0              0  \n",
       "5782              0              0  \n",
       "6073              0              0  \n",
       "6190              0              0  \n",
       "7287              0              0  \n",
       "7644              0              0  \n",
       "7676              0              0  \n",
       "7734              0              0  \n",
       "7813              0              0  \n",
       "5575              0              0  \n",
       "5838              0              0  \n",
       "6037              0              0  \n",
       "6152              0              0  \n",
       "6192              0              0  \n",
       "6200              0              0  \n",
       "6212              0              0  \n",
       "6218              0              0  \n",
       "6368              0              0  \n",
       "6797              0              0  \n",
       "1118              0              0  \n",
       "1337              0              0  \n",
       "1882              0              0  \n",
       "2130              0              0  \n",
       "2860              0              0  \n",
       "4114              0              0  \n",
       "5331              0              0  \n",
       "6183              0              0  \n",
       "7655              0              0  "
      ]
     },
     "execution_count": 18,
     "metadata": {},
     "output_type": "execute_result"
    }
   ],
   "source": [
    "outlier_features = list(data_test.columns[1:5])\n",
    "def detect_outliers(df,n,features):\n",
    "    outlier_indices = []\n",
    "    \n",
    "    for col in features:\n",
    "        q1 = np.nanpercentile(df[col], 25)\n",
    "        q3 = np.nanpercentile(df[col], 75)\n",
    "        iqr = q3 - q1\n",
    "        min_val = q1 - 1.5 * iqr\n",
    "        max_val = q3 + 1.5 * iqr\n",
    "        outlier_indices.extend(df[(df[col] < min_val) | (df[col] > max_val)].index)\n",
    "    outlier_indices = Counter(outlier_indices)        \n",
    "    outliers = list( key for key, value in outlier_indices.items() if value > n)\n",
    "    return outliers\n",
    "\n",
    "Outliers_to_drop = detect_outliers(data_test,1,outlier_features)\n",
    "data_test.loc[Outliers_to_drop]"
   ]
  },
  {
   "cell_type": "code",
   "execution_count": 19,
   "metadata": {},
   "outputs": [],
   "source": [
    "data = data_test"
   ]
  },
  {
   "cell_type": "code",
   "execution_count": 20,
   "metadata": {},
   "outputs": [],
   "source": [
    "data.drop(Outliers_to_drop, axis = 0, inplace=True)"
   ]
  },
  {
   "cell_type": "markdown",
   "metadata": {},
   "source": [
    "### Removing null values"
   ]
  },
  {
   "cell_type": "code",
   "execution_count": 21,
   "metadata": {},
   "outputs": [],
   "source": [
    "data.dropna(axis=0, subset=['AQI'], inplace=True)\n",
    "data.fillna(method='bfill', axis=0, inplace=True)"
   ]
  },
  {
   "cell_type": "code",
   "execution_count": 22,
   "metadata": {},
   "outputs": [
    {
     "data": {
      "text/plain": [
       "Date             0\n",
       "SO2 µg/m3        0\n",
       "Nox µg/m3        0\n",
       "RSPM µg/m3       0\n",
       "SPM              0\n",
       "AQI              0\n",
       "Location         0\n",
       "SO2 µg/m3 BDL    0\n",
       "Nox µg/m3 BDL    0\n",
       "dtype: int64"
      ]
     },
     "execution_count": 22,
     "metadata": {},
     "output_type": "execute_result"
    }
   ],
   "source": [
    "data.isnull().sum()"
   ]
  },
  {
   "cell_type": "markdown",
   "metadata": {},
   "source": [
    "## Plotting features with target"
   ]
  },
  {
   "cell_type": "code",
   "execution_count": 23,
   "metadata": {},
   "outputs": [
    {
     "name": "stderr",
     "output_type": "stream",
     "text": [
      "c:\\Users\\yeshu\\anaconda3\\envs\\mlenv\\lib\\site-packages\\seaborn\\distributions.py:2619: FutureWarning: `distplot` is a deprecated function and will be removed in a future version. Please adapt your code to use either `displot` (a figure-level function with similar flexibility) or `histplot` (an axes-level function for histograms).\n",
      "  warnings.warn(msg, FutureWarning)\n",
      "c:\\Users\\yeshu\\anaconda3\\envs\\mlenv\\lib\\site-packages\\seaborn\\distributions.py:2619: FutureWarning: `distplot` is a deprecated function and will be removed in a future version. Please adapt your code to use either `displot` (a figure-level function with similar flexibility) or `histplot` (an axes-level function for histograms).\n",
      "  warnings.warn(msg, FutureWarning)\n",
      "c:\\Users\\yeshu\\anaconda3\\envs\\mlenv\\lib\\site-packages\\seaborn\\distributions.py:2619: FutureWarning: `distplot` is a deprecated function and will be removed in a future version. Please adapt your code to use either `displot` (a figure-level function with similar flexibility) or `histplot` (an axes-level function for histograms).\n",
      "  warnings.warn(msg, FutureWarning)\n",
      "c:\\Users\\yeshu\\anaconda3\\envs\\mlenv\\lib\\site-packages\\seaborn\\distributions.py:2619: FutureWarning: `distplot` is a deprecated function and will be removed in a future version. Please adapt your code to use either `displot` (a figure-level function with similar flexibility) or `histplot` (an axes-level function for histograms).\n",
      "  warnings.warn(msg, FutureWarning)\n"
     ]
    },
    {
     "data": {
      "image/png": "[encoded data removed]",
      "text/plain": [
       "<Figure size 1440x720 with 4 Axes>"
      ]
     },
     "metadata": {
      "needs_background": "light"
     },
     "output_type": "display_data"
    }
   ],
   "source": [
    "plt.figure(figsize=(20,10))\n",
    "plt.subplot(2,2,1)\n",
    "sns.distplot(data['SO2 µg/m3'])\n",
    "plt.subplot(2,2,2)\n",
    "sns.distplot(data['Nox µg/m3'])\n",
    "plt.subplot(2,2,3)\n",
    "sns.distplot(data['RSPM µg/m3'])\n",
    "plt.subplot(2,2,4)\n",
    "sns.distplot(data['SPM'])\n",
    "plt.show()"
   ]
  },
  {
   "cell_type": "code",
   "execution_count": 24,
   "metadata": {},
   "outputs": [],
   "source": [
    "data = data[[c for c in data if c not in ['AQI']] + ['AQI']]"
   ]
  },
  {
   "cell_type": "code",
   "execution_count": 25,
   "metadata": {},
   "outputs": [
    {
     "data": {
      "image/png": "[encoded data removed]",
      "text/plain": [
       "<Figure size 432x288 with 2 Axes>"
      ]
     },
     "metadata": {
      "needs_background": "light"
     },
     "output_type": "display_data"
    }
   ],
   "source": [
    "g1 = sns.heatmap(data.corr(),annot=True, fmt = \".2f\", cmap = \"vlag\")"
   ]
  },
  {
   "cell_type": "code",
   "execution_count": 26,
   "metadata": {},
   "outputs": [
    {
     "data": {
      "image/png": "[encoded data removed]",
      "text/plain": [
       "<Figure size 720x360 with 1 Axes>"
      ]
     },
     "metadata": {
      "needs_background": "light"
     },
     "output_type": "display_data"
    }
   ],
   "source": [
    "plt.figure(figsize=(10,5))\n",
    "sns.boxplot(x='Location',y='AQI',data=data)\n",
    "plt.show()"
   ]
  },
  {
   "cell_type": "code",
   "execution_count": 27,
   "metadata": {},
   "outputs": [
    {
     "data": {
      "text/html": [
       "<div>\n",
       "<style scoped>\n",
       "    .dataframe tbody tr th:only-of-type {\n",
       "        vertical-align: middle;\n",
       "    }\n",
       "\n",
       "    .dataframe tbody tr th {\n",
       "        vertical-align: top;\n",
       "    }\n",
       "\n",
       "    .dataframe thead th {\n",
       "        text-align: right;\n",
       "    }\n",
       "</style>\n",
       "<table border=\"1\" class=\"dataframe\">\n",
       "  <thead>\n",
       "    <tr style=\"text-align: right;\">\n",
       "      <th></th>\n",
       "      <th>Bhosari</th>\n",
       "      <th>Chinchwad</th>\n",
       "      <th>Karve Road</th>\n",
       "      <th>Nal Stop</th>\n",
       "      <th>Pimpri</th>\n",
       "      <th>Swargate</th>\n",
       "    </tr>\n",
       "    <tr>\n",
       "      <th>Years</th>\n",
       "      <th></th>\n",
       "      <th></th>\n",
       "      <th></th>\n",
       "      <th></th>\n",
       "      <th></th>\n",
       "      <th></th>\n",
       "    </tr>\n",
       "  </thead>\n",
       "  <tbody>\n",
       "    <tr>\n",
       "      <th>2009</th>\n",
       "      <td>86.745283</td>\n",
       "      <td>NaN</td>\n",
       "      <td>97.700000</td>\n",
       "      <td>83.592233</td>\n",
       "      <td>NaN</td>\n",
       "      <td>84.432432</td>\n",
       "    </tr>\n",
       "    <tr>\n",
       "      <th>2010</th>\n",
       "      <td>76.458333</td>\n",
       "      <td>NaN</td>\n",
       "      <td>109.573529</td>\n",
       "      <td>80.076923</td>\n",
       "      <td>NaN</td>\n",
       "      <td>75.571429</td>\n",
       "    </tr>\n",
       "    <tr>\n",
       "      <th>2011</th>\n",
       "      <td>109.571429</td>\n",
       "      <td>NaN</td>\n",
       "      <td>124.708571</td>\n",
       "      <td>99.607843</td>\n",
       "      <td>NaN</td>\n",
       "      <td>98.912088</td>\n",
       "    </tr>\n",
       "    <tr>\n",
       "      <th>2012</th>\n",
       "      <td>88.729167</td>\n",
       "      <td>89.558140</td>\n",
       "      <td>114.392655</td>\n",
       "      <td>88.878788</td>\n",
       "      <td>NaN</td>\n",
       "      <td>81.533981</td>\n",
       "    </tr>\n",
       "    <tr>\n",
       "      <th>2013</th>\n",
       "      <td>93.323529</td>\n",
       "      <td>81.468013</td>\n",
       "      <td>122.659218</td>\n",
       "      <td>81.155340</td>\n",
       "      <td>NaN</td>\n",
       "      <td>76.130000</td>\n",
       "    </tr>\n",
       "    <tr>\n",
       "      <th>2014</th>\n",
       "      <td>92.230000</td>\n",
       "      <td>89.460714</td>\n",
       "      <td>111.918919</td>\n",
       "      <td>87.591398</td>\n",
       "      <td>NaN</td>\n",
       "      <td>85.198113</td>\n",
       "    </tr>\n",
       "    <tr>\n",
       "      <th>2015</th>\n",
       "      <td>95.430000</td>\n",
       "      <td>NaN</td>\n",
       "      <td>137.198198</td>\n",
       "      <td>92.427083</td>\n",
       "      <td>140.490196</td>\n",
       "      <td>100.780220</td>\n",
       "    </tr>\n",
       "    <tr>\n",
       "      <th>2016</th>\n",
       "      <td>114.663265</td>\n",
       "      <td>NaN</td>\n",
       "      <td>107.250000</td>\n",
       "      <td>110.622222</td>\n",
       "      <td>101.698980</td>\n",
       "      <td>103.865169</td>\n",
       "    </tr>\n",
       "    <tr>\n",
       "      <th>2017</th>\n",
       "      <td>103.454545</td>\n",
       "      <td>NaN</td>\n",
       "      <td>77.108824</td>\n",
       "      <td>101.000000</td>\n",
       "      <td>140.000000</td>\n",
       "      <td>98.500000</td>\n",
       "    </tr>\n",
       "    <tr>\n",
       "      <th>2018</th>\n",
       "      <td>116.011494</td>\n",
       "      <td>NaN</td>\n",
       "      <td>87.262195</td>\n",
       "      <td>118.280000</td>\n",
       "      <td>96.501976</td>\n",
       "      <td>110.606061</td>\n",
       "    </tr>\n",
       "    <tr>\n",
       "      <th>2019</th>\n",
       "      <td>167.863636</td>\n",
       "      <td>NaN</td>\n",
       "      <td>125.782051</td>\n",
       "      <td>143.333333</td>\n",
       "      <td>133.566038</td>\n",
       "      <td>142.571429</td>\n",
       "    </tr>\n",
       "  </tbody>\n",
       "</table>\n",
       "</div>"
      ],
      "text/plain": [
       "          Bhosari  Chinchwad  Karve Road    Nal Stop      Pimpri    Swargate\n",
       "Years                                                                       \n",
       "2009    86.745283        NaN   97.700000   83.592233         NaN   84.432432\n",
       "2010    76.458333        NaN  109.573529   80.076923         NaN   75.571429\n",
       "2011   109.571429        NaN  124.708571   99.607843         NaN   98.912088\n",
       "2012    88.729167  89.558140  114.392655   88.878788         NaN   81.533981\n",
       "2013    93.323529  81.468013  122.659218   81.155340         NaN   76.130000\n",
       "2014    92.230000  89.460714  111.918919   87.591398         NaN   85.198113\n",
       "2015    95.430000        NaN  137.198198   92.427083  140.490196  100.780220\n",
       "2016   114.663265        NaN  107.250000  110.622222  101.698980  103.865169\n",
       "2017   103.454545        NaN   77.108824  101.000000  140.000000   98.500000\n",
       "2018   116.011494        NaN   87.262195  118.280000   96.501976  110.606061\n",
       "2019   167.863636        NaN  125.782051  143.333333  133.566038  142.571429"
      ]
     },
     "execution_count": 27,
     "metadata": {},
     "output_type": "execute_result"
    }
   ],
   "source": [
    "d={}\n",
    "for key,grp in data.groupby('Location'):\n",
    "    a=grp.groupby(grp['Date'].dt.year)['AQI'].mean()\n",
    "    d[key]=a\n",
    "yearly_avg=pd.DataFrame(d)\n",
    "yearly_avg.index.name='Years'\n",
    "yearly_avg.reset_index(inplace=True)\n",
    "yearly_avg.set_index('Years',inplace=True)\n",
    "yearly_avg"
   ]
  },
  {
   "cell_type": "code",
   "execution_count": 28,
   "metadata": {},
   "outputs": [
    {
     "data": {
      "text/plain": [
       "Text(0.5, 0, 'Year')"
      ]
     },
     "execution_count": 28,
     "metadata": {},
     "output_type": "execute_result"
    },
    {
     "data": {
      "image/png": "[encoded data removed]",
      "text/plain": [
       "<Figure size 1440x720 with 1 Axes>"
      ]
     },
     "metadata": {},
     "output_type": "display_data"
    }
   ],
   "source": [
    "plt.style.use('ggplot')\n",
    "yearly_avg.plot(figsize=(20,10))\n",
    "plt.title('Mean AQI for each Location')\n",
    "plt.ylabel('Mean AQI')\n",
    "plt.xlabel('Year')"
   ]
  },
  {
   "cell_type": "markdown",
   "metadata": {},
   "source": [
    "## Feature Selection"
   ]
  },
  {
   "cell_type": "code",
   "execution_count": 29,
   "metadata": {},
   "outputs": [],
   "source": [
    "Location = pd.get_dummies(data.Location, prefix='Location', drop_first=True)\n",
    "cols = [data, Location]\n",
    "data = pd.concat(cols, axis=1)\n",
    "data.drop(columns=['Location'], inplace=True)"
   ]
  },
  {
   "cell_type": "code",
   "execution_count": 30,
   "metadata": {},
   "outputs": [],
   "source": [
    "y = data.AQI\n",
    "data.drop(['AQI'], axis=1, inplace=True)"
   ]
  },
  {
   "cell_type": "code",
   "execution_count": 31,
   "metadata": {},
   "outputs": [],
   "source": [
    "y = y.to_frame()"
   ]
  },
  {
   "cell_type": "code",
   "execution_count": 32,
   "metadata": {},
   "outputs": [],
   "source": [
    "X = data.iloc[:,1:]"
   ]
  },
  {
   "cell_type": "code",
   "execution_count": 33,
   "metadata": {},
   "outputs": [
    {
     "data": {
      "text/plain": [
       "<seaborn.axisgrid.FacetGrid at 0x28e22b70640>"
      ]
     },
     "execution_count": 33,
     "metadata": {},
     "output_type": "execute_result"
    },
    {
     "data": {
      "image/png": "[encoded data removed]",
      "text/plain": [
       "<Figure size 360x360 with 1 Axes>"
      ]
     },
     "metadata": {},
     "output_type": "display_data"
    }
   ],
   "source": [
    "sns.displot(y['AQI'])"
   ]
  },
  {
   "cell_type": "markdown",
   "metadata": {},
   "source": [
    "## Model training and optimization"
   ]
  },
  {
   "cell_type": "code",
   "execution_count": 56,
   "metadata": {},
   "outputs": [
    {
     "data": {
      "text/plain": [
       "((6199, 11), (1550, 11), (6199, 1), (1550, 1))"
      ]
     },
     "execution_count": 56,
     "metadata": {},
     "output_type": "execute_result"
    }
   ],
   "source": [
    "from sklearn.model_selection import train_test_split\n",
    "X_train, X_test, y_train, y_test = train_test_split(X,y,test_size=0.2,random_state=42)\n",
    "X_train.shape,X_test.shape,y_train.shape,y_test.shape"
   ]
  },
  {
   "cell_type": "code",
   "execution_count": 35,
   "metadata": {},
   "outputs": [],
   "source": [
    "scaler = preprocessing.RobustScaler()\n",
    "X_train_scaled = scaler.fit_transform(X_train)\n",
    "X_test_scaled = scaler.transform(X_test)"
   ]
  },
  {
   "cell_type": "markdown",
   "metadata": {},
   "source": [
    "### Model training via Linear Regression"
   ]
  },
  {
   "cell_type": "code",
   "execution_count": 36,
   "metadata": {},
   "outputs": [
    {
     "data": {
      "text/plain": [
       "array([0.91601183, 0.92927787, 0.92533043, 0.9263533 , 0.92035196])"
      ]
     },
     "execution_count": 36,
     "metadata": {},
     "output_type": "execute_result"
    }
   ],
   "source": [
    "reg = LinearRegression().fit(X_train_scaled, y_train)\n",
    "cv = ShuffleSplit(n_splits=5, test_size=0.3, random_state=0)\n",
    "cross_val_score(reg, X_train_scaled, y_train, cv=cv)"
   ]
  },
  {
   "cell_type": "code",
   "execution_count": 37,
   "metadata": {},
   "outputs": [
    {
     "name": "stdout",
     "output_type": "stream",
     "text": [
      "8.33496101140217\n",
      "194.17234742042984\n"
     ]
    }
   ],
   "source": [
    "y_pred = reg.predict(X_test_scaled)\n",
    "print(mean_absolute_error(y_test, y_pred))\n",
    "print(mean_squared_error(y_test, y_pred))"
   ]
  },
  {
   "cell_type": "markdown",
   "metadata": {},
   "source": [
    "### Model training via RandomizedSearchCV using Random Forest Regressor"
   ]
  },
  {
   "cell_type": "code",
   "execution_count": 38,
   "metadata": {},
   "outputs": [
    {
     "data": {
      "text/plain": [
       "array([0.9947581 , 0.99410261, 0.99298531, 0.99390462, 0.99599616])"
      ]
     },
     "execution_count": 38,
     "metadata": {},
     "output_type": "execute_result"
    }
   ],
   "source": [
    "param_distributions = {'n_estimators': randint(1, 5),'max_depth': randint(5, 10)}\n",
    "search = RandomizedSearchCV(estimator=RandomForestRegressor(random_state=0),\n",
    "                            n_iter=5,\n",
    "                            param_distributions=param_distributions,\n",
    "                            random_state=0)\n",
    "search.fit(X_train_scaled, y_train.values.ravel())\n",
    "cross_val_score(search, X_train_scaled, y_train.values.ravel(), cv=cv)"
   ]
  },
  {
   "cell_type": "markdown",
   "metadata": {},
   "source": [
    "### Model training via GridSearchCV using AdaBoost Regressor"
   ]
  },
  {
   "cell_type": "code",
   "execution_count": 39,
   "metadata": {},
   "outputs": [
    {
     "data": {
      "text/plain": [
       "array([0.94501495, 0.94253006, 0.93101046, 0.93696966, 0.93864815])"
      ]
     },
     "execution_count": 39,
     "metadata": {},
     "output_type": "execute_result"
    }
   ],
   "source": [
    "ada_param_distributions = {'n_estimators': [50, 100],\n",
    "        'learning_rate': [0.01, 0.05, 0.1, 0.3, 1],\n",
    "        'loss': ['linear', 'square', 'exponential']}\n",
    "ada_search = GridSearchCV(AdaBoostRegressor(random_state=0),ada_param_distributions)\n",
    "ada_search.fit(X_train_scaled, y_train.values.ravel())\n",
    "cross_val_score(ada_search, X_train_scaled, y_train.values.ravel(), cv=cv)"
   ]
  },
  {
   "cell_type": "markdown",
   "metadata": {},
   "source": [
    "### Model training via StackingRegressor using Random Forest Regressor and Gradient Boosting Regressor"
   ]
  },
  {
   "cell_type": "code",
   "execution_count": 40,
   "metadata": {},
   "outputs": [
    {
     "data": {
      "text/plain": [
       "array([0.99445731, 0.98083378, 0.99471208, 0.99454153, 0.9972307 ])"
      ]
     },
     "execution_count": 40,
     "metadata": {},
     "output_type": "execute_result"
    }
   ],
   "source": [
    "estimators = [('rf', search),('gbr', GradientBoostingRegressor(random_state=0))]\n",
    "stacking_reg = \\\n",
    "    StackingRegressor(estimators=estimators,final_estimator=search)\n",
    "stacked_reg = stacking_reg.fit(X_train_scaled, y_train.values.ravel())\n",
    "cv = ShuffleSplit(n_splits=5, test_size=0.3, random_state=0)\n",
    "cross_val_score(stacked_reg, X_train_scaled, y_train.values.ravel(), cv=cv)"
   ]
  },
  {
   "cell_type": "markdown",
   "metadata": {},
   "source": [
    "### Model training via StackingRegressor using XGB RegressorRandom, Forest Regressor and Gradient Boosting Regressor"
   ]
  },
  {
   "cell_type": "code",
   "execution_count": 41,
   "metadata": {},
   "outputs": [
    {
     "data": {
      "text/plain": [
       "array([0.99051789, 0.98121053, 0.99841046, 0.99425911, 0.99631206])"
      ]
     },
     "execution_count": 41,
     "metadata": {},
     "output_type": "execute_result"
    }
   ],
   "source": [
    "estimators = [('xb', XGBRegressor(random_state=4)),('gbr', GradientBoostingRegressor(random_state=4))]\n",
    "stacking_reg_2 = StackingRegressor(estimators=estimators,final_estimator=search)\n",
    "stacked_reg_2 = stacking_reg_2.fit(X_train_scaled, y_train.values.ravel())\n",
    "cv = ShuffleSplit(n_splits=5, test_size=0.3, random_state=0)\n",
    "cross_val_score(stacked_reg_2, X_train_scaled, y_train.values.ravel(), cv=cv)"
   ]
  },
  {
   "cell_type": "markdown",
   "metadata": {},
   "source": [
    "### Score comparison"
   ]
  },
  {
   "cell_type": "code",
   "execution_count": 42,
   "metadata": {},
   "outputs": [
    {
     "data": {
      "text/plain": [
       "0.9616135332810467"
      ]
     },
     "execution_count": 42,
     "metadata": {},
     "output_type": "execute_result"
    }
   ],
   "source": [
    "stacked_reg_2.score(X_test_scaled, y_test)"
   ]
  },
  {
   "cell_type": "code",
   "execution_count": 43,
   "metadata": {},
   "outputs": [
    {
     "name": "stdout",
     "output_type": "stream",
     "text": [
      "0.988163167850928\n"
     ]
    }
   ],
   "source": [
    "scores = []\n",
    "\n",
    "for i in range(10):\n",
    "    scaled = preprocessing.RobustScaler()\n",
    "    X_scaled = scaled.fit_transform(X)\n",
    "    Xtrain, Xtest, ytrain, ytest = train_test_split(X_scaled, y, test_size = 0.2)\n",
    "    \n",
    "    stacking_reg_model = StackingRegressor(estimators=estimators,final_estimator=search)\n",
    "    stacked_reg_model = stacking_reg_model.fit(X_train_scaled, y_train.values.ravel())\n",
    "    scores.append(stacked_reg_model.score(Xtest, ytest))\n",
    "\n",
    "print(np.mean(scores))"
   ]
  },
  {
   "cell_type": "code",
   "execution_count": 44,
   "metadata": {},
   "outputs": [
    {
     "name": "stdout",
     "output_type": "stream",
     "text": [
      "0.9982316144492284\n"
     ]
    }
   ],
   "source": [
    "scores = []\n",
    "\n",
    "for i in range(10):\n",
    "    scaled = preprocessing.RobustScaler()\n",
    "    X_scaled = scaled.fit_transform(X)\n",
    "    Xtrain, Xtest, ytrain, ytest = train_test_split(X_scaled, y, test_size = 0.2)\n",
    "    \n",
    "    model = XGBRegressor()\n",
    "    model.fit(Xtrain, ytrain)\n",
    "    scores.append(model.score(Xtest, ytest))\n",
    "\n",
    "print(np.mean(scores))"
   ]
  },
  {
   "cell_type": "code",
   "execution_count": 58,
   "metadata": {},
   "outputs": [
    {
     "name": "stdout",
     "output_type": "stream",
     "text": [
      "0.9818003510496414\n"
     ]
    }
   ],
   "source": [
    "scores = []\n",
    "\n",
    "for i in range(10):   \n",
    "    Xtrain, Xtest, ytrain, ytest = train_test_split(X, y, test_size = 0.2)\n",
    "\n",
    "    rf_search = RandomizedSearchCV(estimator=RandomForestRegressor(random_state=9),\n",
    "                            n_iter=5,\n",
    "                            param_distributions=param_distributions,\n",
    "                            random_state=0)\n",
    "    rf_search.fit(Xtrain, ytrain.values.ravel())\n",
    "    scores.append(rf_search.score(Xtest, ytest.values.ravel()))\n",
    "\n",
    "print(np.mean(scores))"
   ]
  },
  {
   "cell_type": "code",
   "execution_count": 64,
   "metadata": {},
   "outputs": [
    {
     "name": "stdout",
     "output_type": "stream",
     "text": [
      "Best model is RandomizedSearchCV with a mean score of 0.9818003510496414\n"
     ]
    }
   ],
   "source": [
    "print(\"Best model is RandomizedSearchCV with a mean score of\", np.mean(scores))"
   ]
  },
  {
   "cell_type": "markdown",
   "metadata": {},
   "source": [
    "## Saving Best Model"
   ]
  },
  {
   "cell_type": "code",
   "execution_count": 52,
   "metadata": {},
   "outputs": [],
   "source": [
    "import pickle\n",
    "with open(\"pune_AQI_model.pkl\", \"wb\") as file:\n",
    "    pickle.dump(rf_search , file)"
   ]
  },
  {
   "cell_type": "code",
   "execution_count": 65,
   "metadata": {},
   "outputs": [
    {
     "data": {
      "text/plain": [
       "0.9979024223000158"
      ]
     },
     "execution_count": 65,
     "metadata": {},
     "output_type": "execute_result"
    }
   ],
   "source": [
    "rf_search.score(Xtest, ytest.values.ravel())"
   ]
  },
  {
   "cell_type": "markdown",
   "metadata": {},
   "source": [
    "## Prediction Function"
   ]
  },
  {
   "cell_type": "code",
   "execution_count": 60,
   "metadata": {},
   "outputs": [],
   "source": [
    "def predict_AQI(location, so2, nox, rspm, spm):\n",
    "    loc = f\"Location_{location}\"\n",
    "    loc_index = np.where(X.columns==loc)[0][0]\n",
    "    predictor = np.zeros(len(X.columns))\n",
    "    predictor[0] = so2  \n",
    "    predictor[1] = nox\n",
    "    predictor[2] = rspm\n",
    "    predictor[3] = spm\n",
    "    #so2 bdl = so2 < 4\n",
    "    #nox bdl = nox < 9\n",
    "    if so2 < 4:\n",
    "        predictor[4] = 1\n",
    "\n",
    "    if nox < 9:\n",
    "        predictor[5] = 1\n",
    "        \n",
    "    if loc_index>= 0:\n",
    "        predictor[loc_index] = 1\n",
    "\n",
    "    return rf_search.predict([predictor])[0]"
   ]
  },
  {
   "cell_type": "code",
   "execution_count": 63,
   "metadata": {},
   "outputs": [
    {
     "data": {
      "text/plain": [
       "167.1844866276717"
      ]
     },
     "execution_count": 63,
     "metadata": {},
     "output_type": "execute_result"
    }
   ],
   "source": [
    "predict_AQI('Nal Stop', 46, 134, 201, 375)"
   ]
  },
  {
   "cell_type": "code",
   "execution_count": 50,
   "metadata": {},
   "outputs": [
    {
     "data": {
      "text/plain": [
       "Index(['SO2 µg/m3', 'Nox µg/m3', 'RSPM µg/m3', 'SPM', 'SO2 µg/m3 BDL',\n",
       "       'Nox µg/m3 BDL', 'Location_Chinchwad', 'Location_Karve Road',\n",
       "       'Location_Nal Stop', 'Location_Pimpri', 'Location_Swargate'],\n",
       "      dtype='object')"
      ]
     },
     "execution_count": 50,
     "metadata": {},
     "output_type": "execute_result"
    }
   ],
   "source": [
    "X.columns"
   ]
  },
  {
   "cell_type": "markdown",
   "metadata": {},
   "source": [
    "## Saving Data Columns"
   ]
  },
  {
   "cell_type": "code",
   "execution_count": 51,
   "metadata": {},
   "outputs": [],
   "source": [
    "import json\n",
    "columns = {\n",
    "'feature_columns' : [col.lower() for col in X.columns]  \n",
    "}\n",
    "with open(\"pune_AQI_columns.json\", \"w\") as outfile:\n",
    "    json.dump(columns, outfile)\n"
   ]
  }
 ],
 "metadata": {
  "interpreter": {
   "hash": "bff89afa2dd32e48fd5e42ca75439092dc09fe824bd07826447644c9497d680d"
  },
  "kernelspec": {
   "display_name": "Python 3.9.7 ('mlenv')",
   "language": "python",
   "name": "python3"
  },
  "language_info": {
   "codemirror_mode": {
    "name": "ipython",
    "version": 3
   },
   "file_extension": ".py",
   "mimetype": "text/x-python",
   "name": "python",
   "nbconvert_exporter": "python",
   "pygments_lexer": "ipython3",
   "version": "3.9.7"
  },
  "orig_nbformat": 4
 },
 "nbformat": 4,
 "nbformat_minor": 2
}
